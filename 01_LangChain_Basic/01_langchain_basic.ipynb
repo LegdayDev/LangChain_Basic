{
 "cells": [
  {
   "metadata": {},
   "cell_type": "markdown",
   "source": "## 1. 환경 구성",
   "id": "5ced69002f7846bb"
  },
  {
   "metadata": {},
   "cell_type": "markdown",
   "source": [
    "### 1-1) 라이브러리 설치\n",
    "- `-q` 옵션은 설치 로그를 남기지 않는다."
   ],
   "id": "3726981b3f775159"
  },
  {
   "metadata": {
    "ExecuteTime": {
     "end_time": "2025-01-02T13:40:53.776953Z",
     "start_time": "2025-01-02T13:40:50.824289Z"
    }
   },
   "cell_type": "code",
   "source": [
    "from langchain_core.output_parsers import StrOutputParser\n",
    "%pip install -q langchain langchain-openai tiktoken\n",
    "%pip install -q python-dotenv"
   ],
   "id": "17398c22ec91f16e",
   "outputs": [
    {
     "name": "stdout",
     "output_type": "stream",
     "text": [
      "Note: you may need to restart the kernel to use updated packages.\n",
      "Note: you may need to restart the kernel to use updated packages.\n"
     ]
    }
   ],
   "execution_count": 4
  },
  {
   "metadata": {},
   "cell_type": "markdown",
   "source": "### 1-2) OpenAI 인증키 설정",
   "id": "def867ab698233d0"
  },
  {
   "metadata": {
    "ExecuteTime": {
     "end_time": "2025-01-02T13:54:41.597837Z",
     "start_time": "2025-01-02T13:54:41.594498Z"
    }
   },
   "cell_type": "code",
   "source": [
    "import os\n",
    "\n",
    "os.environ['OPENAI_API_KEY'] = 'OPANAI_API_KEY'"
   ],
   "id": "7ff402934177436e",
   "outputs": [],
   "execution_count": 10
  },
  {
   "metadata": {},
   "cell_type": "markdown",
   "source": "## 2. LLM Chain\n",
   "id": "3f78854a298271f5"
  },
  {
   "metadata": {
    "ExecuteTime": {
     "end_time": "2025-01-02T13:56:55.155891Z",
     "start_time": "2025-01-02T13:56:53.288664Z"
    }
   },
   "cell_type": "code",
   "source": [
    "from langchain_openai import ChatOpenAI\n",
    "\n",
    "# model\n",
    "llm = ChatOpenAI(model='gpt-3.5-turbo-0125')\n",
    "\n",
    "# chain 설정\n",
    "llm.invoke('지구의 자전 주기는?').content"
   ],
   "id": "ee933f546d4d9db",
   "outputs": [
    {
     "data": {
      "text/plain": [
       "'지구의 자전 주기는 약 24시간입니다. 이는 하루 동안 지구가 자전하는 시간을 의미하며, 이 시간 동안 지구는 자전축을 중심으로 돌아가며 자전운동을 하게 됩니다.'"
      ]
     },
     "execution_count": 12,
     "metadata": {},
     "output_type": "execute_result"
    }
   ],
   "execution_count": 12
  },
  {
   "metadata": {
    "ExecuteTime": {
     "end_time": "2025-01-02T14:01:27.403086Z",
     "start_time": "2025-01-02T14:01:25.708802Z"
    }
   },
   "cell_type": "code",
   "source": [
    "from langchain_openai import ChatOpenAI\n",
    "from langchain_core.prompts import ChatPromptTemplate\n",
    "from langchain_core.output_parsers import StrOutputParser\n",
    "\n",
    "# prompt + output parser\n",
    "prompt = ChatPromptTemplate.from_template(\"You are an expert in astronomy. Answer the question. <Question>: {input}\")\n",
    "llm = ChatOpenAI(model='gpt-3.5-turbo-0125')\n",
    "output_parser = StrOutputParser() # invoke() 를 호출하면 반환값이 AIMESSAGE 형식인데 그 중 content 만 추출하는 함수\n",
    "\n",
    "# LCEL chaining\n",
    "chain = prompt | llm | output_parser\n",
    "\n",
    "# chain 호출\n",
    "chain.invoke({\"input\" : \"지구의 자전 주기는?\"})"
   ],
   "id": "b52f0ccd138e38be",
   "outputs": [
    {
     "data": {
      "text/plain": [
       "'지구의 자전 주기는 약 24시간입니다. 이는 하루 동안 지구가 자전하는 시간을 나타내며, 이로 인해 낮과 밤이 생기게 됩니다.'"
      ]
     },
     "execution_count": 14,
     "metadata": {},
     "output_type": "execute_result"
    }
   ],
   "execution_count": 14
  },
  {
   "metadata": {},
   "cell_type": "code",
   "outputs": [],
   "execution_count": null,
   "source": "",
   "id": "f81b21c04fa44242"
  }
 ],
 "metadata": {
  "kernelspec": {
   "name": "python3",
   "language": "python",
   "display_name": "Python 3 (ipykernel)"
  }
 },
 "nbformat": 4,
 "nbformat_minor": 9
}
